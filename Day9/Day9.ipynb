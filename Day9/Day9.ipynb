{
  "nbformat": 4,
  "nbformat_minor": 0,
  "metadata": {
    "colab": {
      "provenance": [],
      "include_colab_link": true
    },
    "kernelspec": {
      "name": "python3",
      "display_name": "Python 3"
    },
    "language_info": {
      "name": "python"
    }
  },
  "cells": [
    {
      "cell_type": "markdown",
      "metadata": {
        "id": "view-in-github",
        "colab_type": "text"
      },
      "source": [
        "<a href=\"https://colab.research.google.com/github/ZJouba/Advent-of-Code-2022/blob/main/Day9/Day9.ipynb\" target=\"_parent\"><img src=\"https://colab.research.google.com/assets/colab-badge.svg\" alt=\"Open In Colab\"/></a>"
      ]
    },
    {
      "cell_type": "code",
      "execution_count": null,
      "metadata": {
        "id": "MCPDEOuRLeoL",
        "colab": {
          "base_uri": "https://localhost:8080/"
        },
        "outputId": "184ef7f4-bb9e-4062-d52f-6d3148892aaf"
      },
      "outputs": [
        {
          "output_type": "stream",
          "name": "stdout",
          "text": [
            "[[1 1 2 ... 2 2 2]\n",
            " [0 0 2 ... 1 0 2]\n",
            " [0 0 2 ... 1 2 1]\n",
            " ...\n",
            " [2 0 1 ... 2 2 2]\n",
            " [0 0 1 ... 1 1 0]\n",
            " [0 1 2 ... 2 2 1]]\n"
          ]
        }
      ],
      "source": [
        "import requests\n",
        "import numpy as np\n",
        "\n",
        "file = requests.get('https://raw.githubusercontent.com/ZJouba/Advent-of-Code-2022/main/Day8/Day8.txt')\n",
        "input = list(filter(None, file.text.split('\\n')))\n",
        "input = np.asarray([list(tree) for tree in list(filter(None, file.text.split('\\n')))], dtype=np.int32)\n",
        "\n",
        "# file = '''30373\n",
        "# 25512\n",
        "# 65332\n",
        "# 33549\n",
        "# 35390'''\n",
        "\n",
        "# input = np.asarray([list(tree) for tree in list(filter(None, file.split('\\n')))], dtype=np.int32)\n",
        "\n",
        "border = (input.shape[0] + input.shape[1]) * 2 - 4\n",
        "\n",
        "print(input)"
      ]
    },
    {
      "cell_type": "code",
      "source": [
        "shape = input.shape\n",
        "\n",
        "total = 0\n",
        "for idx, tree in np.ndenumerate(input):\n",
        "  if not any(loc == 0 or loc == shape[0]-1 or loc == shape[1]-1 for loc in idx):\n",
        "    if all(tree > neighbor for neighbor in input[idx[0], :idx[1]]) or \\\n",
        "      all(tree > neighbor for neighbor in input[:idx[0], idx[1]]) or \\\n",
        "      all(tree > neighbor for neighbor in input[idx[0], idx[1]+1:]) or \\\n",
        "      all(tree > neighbor for neighbor in input[idx[0]+1:, idx[1]]):\n",
        "      total += 1\n",
        "\n",
        "print(total + border)\n"
      ],
      "metadata": {
        "id": "2nRjER1zQsCz",
        "outputId": "17b11445-a353-4aeb-be06-c145e7ae9339",
        "colab": {
          "base_uri": "https://localhost:8080/"
        }
      },
      "execution_count": null,
      "outputs": [
        {
          "output_type": "stream",
          "name": "stdout",
          "text": [
            "1827\n"
          ]
        }
      ]
    },
    {
      "cell_type": "code",
      "source": [
        "shape = input.shape\n",
        "\n",
        "scenicScores = []\n",
        "for idx, tree in np.ndenumerate(input):\n",
        "  if not any(loc == 0 or loc == shape[0]-1 or loc == shape[1]-1 for loc in idx):\n",
        "    score = []\n",
        "    left = list(reversed(list(tree > neighbor for neighbor in input[idx[0], :idx[1]])))\n",
        "    leftScore = 0\n",
        "    for i in left:\n",
        "      leftScore += 1\n",
        "      if not i: break\n",
        "    if leftScore > 0: score.append(leftScore)\n",
        "\n",
        "    top = list(reversed(list(tree > neighbor for neighbor in input[:idx[0], idx[1]])))\n",
        "    topScore = 0\n",
        "    for i in top:\n",
        "      topScore += 1\n",
        "      if not i: break      \n",
        "    if topScore > 0: score.append(topScore)\n",
        "\n",
        "    right = list(tree > neighbor for neighbor in input[idx[0], idx[1]+1:])\n",
        "    rightScore = 0\n",
        "    for i in right:\n",
        "      rightScore += 1\n",
        "      if not i: break      \n",
        "    if rightScore > 0: score.append(rightScore)\n",
        "\n",
        "    down = list(tree > neighbor for neighbor in input[idx[0]+1:, idx[1]])\n",
        "    downScore = 0\n",
        "    for i in down:\n",
        "      downScore += 1\n",
        "      if not i: break      \n",
        "    if downScore > 0: score.append(downScore)\n",
        "\n",
        "    totalScenic = np.prod(score)\n",
        "    # print(f'Tree {idx} score = {totalScenic}')\n",
        "    scenicScores.append(totalScenic)\n",
        "\n",
        "print(max(scenicScores))\n"
      ],
      "metadata": {
        "id": "xgHdGbORXccM",
        "outputId": "65516976-742e-467b-b290-bcd96df2cdb8",
        "colab": {
          "base_uri": "https://localhost:8080/"
        }
      },
      "execution_count": null,
      "outputs": [
        {
          "output_type": "stream",
          "name": "stdout",
          "text": [
            "335580\n"
          ]
        }
      ]
    }
  ]
}