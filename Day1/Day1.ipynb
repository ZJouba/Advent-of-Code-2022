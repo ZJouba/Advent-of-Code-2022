{
  "nbformat": 4,
  "nbformat_minor": 0,
  "metadata": {
    "colab": {
      "provenance": [],
      "toc_visible": true,
      "authorship_tag": "ABX9TyN+JVpxqgEbsnIsmxxBqlAa",
      "include_colab_link": true
    },
    "kernelspec": {
      "name": "python3",
      "display_name": "Python 3"
    },
    "language_info": {
      "name": "python"
    }
  },
  "cells": [
    {
      "cell_type": "markdown",
      "metadata": {
        "id": "view-in-github",
        "colab_type": "text"
      },
      "source": [
        "<a href=\"https://colab.research.google.com/github/ZJouba/Advent-of-Code-2022/blob/main/Day1/Day1.ipynb\" target=\"_parent\"><img src=\"https://colab.research.google.com/assets/colab-badge.svg\" alt=\"Open In Colab\"/></a>"
      ]
    },
    {
      "cell_type": "code",
      "source": [
        "import requests\n",
        "\n",
        "file = requests.get('https://raw.githubusercontent.com/ZJouba/Advent-of-Code-2022/main/Day1/Day1.txt')\n",
        "input = file.text.split('\\n')\n",
        "\n",
        "elves = []\n",
        "total = 0\n",
        "for i in input:\n",
        "  if i == '':\n",
        "    elves.append(total)\n",
        "    total = 0\n",
        "    continue\n",
        "  total += int(i)\n",
        "\n",
        "elves.sort(reverse=True)\n",
        "print(elves[0] + elves[1] + elves[2])\n"
      ],
      "metadata": {
        "id": "PlqjEv2UIEm9",
        "outputId": "ddfc2ac9-93bc-4bbf-e941-b156ca3b0b5d",
        "colab": {
          "base_uri": "https://localhost:8080/"
        }
      },
      "execution_count": 15,
      "outputs": [
        {
          "output_type": "stream",
          "name": "stdout",
          "text": [
            "200945\n"
          ]
        }
      ]
    }
  ]
}