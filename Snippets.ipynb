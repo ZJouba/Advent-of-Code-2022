{
  "nbformat": 4,
  "nbformat_minor": 0,
  "metadata": {
    "colab": {
      "provenance": [],
      "authorship_tag": "ABX9TyP6rW1HHTwCcbh5sM5WQBEd",
      "include_colab_link": true
    },
    "kernelspec": {
      "name": "python3",
      "display_name": "Python 3"
    },
    "language_info": {
      "name": "python"
    }
  },
  "cells": [
    {
      "cell_type": "markdown",
      "metadata": {
        "id": "view-in-github",
        "colab_type": "text"
      },
      "source": [
        "<a href=\"https://colab.research.google.com/github/ZJouba/Advent-of-Code-2022/blob/main/Snippets.ipynb\" target=\"_parent\"><img src=\"https://colab.research.google.com/assets/colab-badge.svg\" alt=\"Open In Colab\"/></a>"
      ]
    },
    {
      "cell_type": "code",
      "execution_count": null,
      "metadata": {
        "id": "ZgUVBFRRuvh7"
      },
      "outputs": [],
      "source": [
        "file = open('https://github.com/ZJouba/Advent-of-Code-2022/tree/main/Day1/DayX.txt', 'r')\n",
        "input = file.readlines()"
      ]
    }
  ]
}