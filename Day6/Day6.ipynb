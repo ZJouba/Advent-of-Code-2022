{
  "nbformat": 4,
  "nbformat_minor": 0,
  "metadata": {
    "colab": {
      "provenance": [],
      "include_colab_link": true
    },
    "kernelspec": {
      "name": "python3",
      "display_name": "Python 3"
    },
    "language_info": {
      "name": "python"
    }
  },
  "cells": [
    {
      "cell_type": "markdown",
      "metadata": {
        "id": "view-in-github",
        "colab_type": "text"
      },
      "source": [
        "<a href=\"https://colab.research.google.com/github/ZJouba/Advent-of-Code-2022/blob/main/Day6/Day6.ipynb\" target=\"_parent\"><img src=\"https://colab.research.google.com/assets/colab-badge.svg\" alt=\"Open In Colab\"/></a>"
      ]
    },
    {
      "cell_type": "code",
      "execution_count": 34,
      "metadata": {
        "id": "MCPDEOuRLeoL"
      },
      "outputs": [],
      "source": [
        "import requests\n",
        "import re\n",
        "\n",
        "file = requests.get('https://raw.githubusercontent.com/ZJouba/Advent-of-Code-2022/main/Day6/Day6.txt')\n",
        "input = file.text\n"
      ]
    },
    {
      "cell_type": "code",
      "source": [
        "counter = 0;\n",
        "for i in range(len(input)-4):\n",
        "  counter += 1\n",
        "  characterSet = set(input[i:i+4])\n",
        "  if len(characterSet) == 4:\n",
        "    break\n",
        "\n",
        "print(counter+3)"
      ],
      "metadata": {
        "id": "_vBLrsi97mS_",
        "outputId": "42a8dbe7-f633-4e8e-9e17-c870129b4783",
        "colab": {
          "base_uri": "https://localhost:8080/"
        }
      },
      "execution_count": 17,
      "outputs": [
        {
          "output_type": "stream",
          "name": "stdout",
          "text": [
            "1134\n"
          ]
        }
      ]
    },
    {
      "cell_type": "code",
      "source": [
        "counter2 = 0;\n",
        "for i in range(len(input)-14):\n",
        "  counter2 += 1\n",
        "  characterSet = set(input[i:i+14])\n",
        "  if len(characterSet) == 14:\n",
        "    break\n",
        "\n",
        "print(counter2+13)"
      ],
      "metadata": {
        "id": "oEv_LWPZ9Kgo",
        "outputId": "6cdbf007-252c-4cf3-aeb4-d54a1eaf07a2",
        "colab": {
          "base_uri": "https://localhost:8080/"
        }
      },
      "execution_count": 35,
      "outputs": [
        {
          "output_type": "stream",
          "name": "stdout",
          "text": [
            "2263\n"
          ]
        }
      ]
    }
  ]
}