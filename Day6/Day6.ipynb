{
  "nbformat": 4,
  "nbformat_minor": 0,
  "metadata": {
    "colab": {
      "provenance": [],
      "include_colab_link": true
    },
    "kernelspec": {
      "name": "python3",
      "display_name": "Python 3"
    },
    "language_info": {
      "name": "python"
    }
  },
  "cells": [
    {
      "cell_type": "markdown",
      "metadata": {
        "id": "view-in-github",
        "colab_type": "text"
      },
      "source": [
        "<a href=\"https://colab.research.google.com/github/ZJouba/Advent-of-Code-2022/blob/main/Day6/Day6.ipynb\" target=\"_parent\"><img src=\"https://colab.research.google.com/assets/colab-badge.svg\" alt=\"Open In Colab\"/></a>"
      ]
    },
    {
      "cell_type": "code",
      "execution_count": null,
      "metadata": {
        "id": "MCPDEOuRLeoL",
        "outputId": "cb6d94e1-15df-4334-c7b0-c3ee3cc86b15",
        "colab": {
          "base_uri": "https://localhost:8080/"
        }
      },
      "outputs": [
        {
          "output_type": "stream",
          "name": "stdout",
          "text": [
            "['move 1 from 3 to 5', 'move 2 from 2 to 8', 'move 4 from 1 to 3', 'move 2 from 1 to 4', 'move 1 from 7 to 1', 'move 2 from 9 to 7', 'move 4 from 5 to 9', 'move 7 from 8 to 9', 'move 2 from 5 to 2', 'move 1 from 2 to 9', 'move 1 from 1 to 8', 'move 1 from 2 to 7', 'move 3 from 8 to 2', 'move 6 from 9 to 7', 'move 5 from 4 to 1', 'move 7 from 9 to 5', 'move 1 from 4 to 5', 'move 4 from 1 to 7', 'move 1 from 8 to 1', 'move 4 from 7 to 9', 'move 1 from 5 to 8', 'move 9 from 9 to 3', 'move 1 from 8 to 9', 'move 1 from 1 to 5', 'move 4 from 3 to 2', 'move 10 from 5 to 3', 'move 8 from 2 to 8', 'move 7 from 8 to 3', 'move 9 from 7 to 5', 'move 1 from 9 to 3', 'move 3 from 6 to 4', 'move 3 from 7 to 6', 'move 1 from 8 to 7', 'move 1 from 1 to 8', 'move 1 from 4 to 7', 'move 5 from 7 to 6', 'move 14 from 3 to 7', 'move 16 from 3 to 9', 'move 1 from 8 to 4', 'move 2 from 4 to 9', 'move 1 from 3 to 7', 'move 1 from 6 to 8', 'move 15 from 7 to 2', 'move 10 from 9 to 7', 'move 7 from 2 to 4', 'move 1 from 2 to 7', 'move 11 from 6 to 7', 'move 5 from 5 to 9', 'move 15 from 7 to 8', 'move 1 from 7 to 2', 'move 2 from 9 to 7', 'move 4 from 5 to 1', 'move 5 from 4 to 9', 'move 6 from 2 to 4', 'move 2 from 2 to 5', 'move 2 from 1 to 4', 'move 1 from 1 to 5', 'move 3 from 5 to 6', 'move 8 from 7 to 9', 'move 9 from 4 to 9', 'move 1 from 4 to 8', 'move 11 from 9 to 7', 'move 4 from 6 to 1', 'move 17 from 8 to 7', 'move 26 from 7 to 1', 'move 1 from 4 to 8', 'move 24 from 1 to 7', 'move 22 from 9 to 3', 'move 1 from 8 to 2', 'move 6 from 3 to 4', 'move 2 from 1 to 2', 'move 1 from 7 to 9', 'move 16 from 7 to 3', 'move 1 from 9 to 5', 'move 6 from 4 to 1', 'move 1 from 2 to 7', 'move 6 from 3 to 2', 'move 1 from 5 to 4', 'move 6 from 3 to 5', 'move 1 from 4 to 1', 'move 3 from 1 to 4', 'move 4 from 5 to 4', 'move 7 from 1 to 7', 'move 6 from 4 to 3', 'move 1 from 1 to 6', 'move 1 from 2 to 5', 'move 1 from 1 to 7', 'move 15 from 3 to 1', 'move 2 from 2 to 7', 'move 3 from 5 to 8', 'move 9 from 7 to 5', 'move 8 from 5 to 7', 'move 3 from 8 to 5', 'move 1 from 6 to 9', 'move 5 from 7 to 8', 'move 3 from 2 to 4', 'move 2 from 2 to 5', 'move 4 from 3 to 7', 'move 5 from 8 to 3', 'move 1 from 5 to 8', 'move 5 from 3 to 1', 'move 2 from 5 to 7', 'move 1 from 9 to 8', 'move 1 from 5 to 8', 'move 19 from 1 to 4', 'move 19 from 7 to 1', 'move 7 from 1 to 4', 'move 1 from 7 to 4', 'move 3 from 3 to 5', 'move 22 from 4 to 5', 'move 3 from 8 to 3', 'move 7 from 1 to 8', 'move 3 from 3 to 5', 'move 3 from 3 to 6', 'move 3 from 6 to 9', 'move 3 from 9 to 1', 'move 1 from 3 to 4', 'move 2 from 8 to 9', 'move 25 from 5 to 6', 'move 4 from 1 to 5', 'move 5 from 5 to 4', 'move 2 from 8 to 2', 'move 1 from 9 to 2', 'move 3 from 5 to 7', 'move 12 from 6 to 8', 'move 1 from 7 to 3', 'move 7 from 8 to 1', 'move 1 from 5 to 7', 'move 1 from 3 to 8', 'move 2 from 7 to 4', 'move 6 from 8 to 5', 'move 10 from 6 to 3', 'move 2 from 6 to 2', 'move 1 from 6 to 3', 'move 17 from 4 to 6', 'move 3 from 3 to 9', 'move 3 from 8 to 4', 'move 1 from 7 to 5', 'move 1 from 3 to 8', 'move 1 from 2 to 5', 'move 10 from 1 to 7', 'move 3 from 2 to 7', 'move 2 from 1 to 8', 'move 15 from 6 to 3', 'move 7 from 5 to 9', 'move 9 from 9 to 5', 'move 1 from 9 to 3', 'move 2 from 3 to 5', 'move 3 from 8 to 6', 'move 1 from 9 to 3', 'move 11 from 5 to 8', 'move 9 from 3 to 8', 'move 1 from 5 to 6', 'move 9 from 8 to 5', 'move 10 from 7 to 5', 'move 5 from 5 to 3', 'move 4 from 6 to 8', 'move 2 from 6 to 8', 'move 2 from 5 to 6', 'move 1 from 2 to 1', 'move 9 from 5 to 3', 'move 2 from 7 to 5', 'move 3 from 5 to 4', 'move 1 from 4 to 1', 'move 2 from 4 to 3', 'move 1 from 7 to 1', 'move 2 from 1 to 7', 'move 3 from 4 to 5', 'move 2 from 7 to 3', 'move 14 from 3 to 9', 'move 13 from 3 to 1', 'move 8 from 1 to 4', 'move 6 from 1 to 2', 'move 11 from 8 to 6', 'move 4 from 3 to 9', 'move 2 from 9 to 2', 'move 1 from 5 to 2', 'move 6 from 4 to 9', 'move 6 from 8 to 9', 'move 6 from 9 to 4', 'move 2 from 4 to 7', 'move 4 from 4 to 6', 'move 4 from 2 to 9', 'move 2 from 7 to 9', 'move 2 from 2 to 1', 'move 3 from 5 to 3', 'move 2 from 1 to 7', 'move 1 from 5 to 2', 'move 7 from 9 to 7', 'move 2 from 2 to 8', 'move 10 from 6 to 5', 'move 5 from 5 to 6', 'move 9 from 7 to 8', 'move 3 from 3 to 9', 'move 4 from 5 to 1', 'move 10 from 9 to 3', 'move 7 from 6 to 2', 'move 5 from 3 to 9', 'move 3 from 1 to 7', 'move 1 from 4 to 7', 'move 1 from 4 to 9', 'move 1 from 3 to 7', 'move 1 from 2 to 1', 'move 1 from 5 to 1', 'move 1 from 1 to 7', 'move 3 from 6 to 3', 'move 3 from 3 to 4', 'move 6 from 7 to 4', 'move 3 from 9 to 8', 'move 9 from 8 to 1', 'move 3 from 8 to 1', 'move 13 from 9 to 5', 'move 2 from 2 to 8', 'move 4 from 8 to 3', 'move 11 from 1 to 2', 'move 14 from 2 to 6', 'move 6 from 3 to 8', 'move 4 from 9 to 7', 'move 10 from 5 to 3', 'move 2 from 7 to 3', 'move 1 from 1 to 8', 'move 1 from 1 to 7', 'move 1 from 7 to 8', 'move 1 from 1 to 4', 'move 8 from 4 to 2', 'move 2 from 5 to 1', 'move 1 from 1 to 9', 'move 1 from 7 to 3', 'move 1 from 9 to 5', 'move 1 from 4 to 2', 'move 1 from 4 to 6', 'move 1 from 7 to 3', 'move 11 from 6 to 9', 'move 4 from 2 to 5', 'move 4 from 2 to 5', 'move 10 from 5 to 6', 'move 9 from 9 to 5', 'move 1 from 9 to 2', 'move 2 from 8 to 4', 'move 1 from 9 to 6', 'move 5 from 2 to 1', 'move 5 from 8 to 6', 'move 4 from 1 to 9', 'move 1 from 8 to 1', 'move 3 from 9 to 4', 'move 5 from 5 to 1', 'move 1 from 9 to 7', 'move 11 from 6 to 3', 'move 4 from 4 to 9', 'move 9 from 6 to 5', 'move 2 from 6 to 5', 'move 3 from 9 to 1', 'move 1 from 4 to 8', 'move 4 from 1 to 3', 'move 3 from 5 to 4', 'move 2 from 4 to 9', 'move 2 from 9 to 4', 'move 1 from 9 to 8', 'move 6 from 5 to 4', 'move 1 from 7 to 8', 'move 3 from 5 to 2', 'move 3 from 8 to 5', 'move 1 from 2 to 1', 'move 24 from 3 to 9', 'move 2 from 2 to 1', 'move 10 from 1 to 7', 'move 18 from 9 to 8', 'move 5 from 3 to 7', 'move 5 from 9 to 5', 'move 12 from 7 to 2', 'move 1 from 7 to 6', 'move 8 from 4 to 7', 'move 1 from 4 to 5', 'move 12 from 5 to 9', 'move 1 from 6 to 9', 'move 3 from 2 to 8', 'move 5 from 7 to 3', 'move 21 from 8 to 7', 'move 3 from 3 to 8', 'move 11 from 9 to 5', 'move 10 from 5 to 6', 'move 3 from 7 to 2', 'move 3 from 6 to 4', 'move 2 from 3 to 1', 'move 2 from 3 to 5', 'move 1 from 1 to 7', 'move 1 from 1 to 4', 'move 3 from 4 to 1', 'move 1 from 9 to 1', 'move 1 from 4 to 3', 'move 3 from 5 to 8', 'move 1 from 9 to 6', 'move 4 from 2 to 3', 'move 6 from 8 to 6', 'move 1 from 9 to 3', 'move 7 from 2 to 4', 'move 5 from 4 to 5', 'move 1 from 2 to 6', 'move 3 from 1 to 9', 'move 3 from 9 to 4', 'move 1 from 1 to 9', 'move 2 from 5 to 3', 'move 3 from 5 to 2', 'move 4 from 7 to 2', 'move 2 from 4 to 3', 'move 2 from 2 to 3', 'move 2 from 4 to 8', 'move 5 from 2 to 3', 'move 6 from 6 to 4', 'move 8 from 7 to 3', 'move 4 from 4 to 5', 'move 1 from 3 to 1', 'move 2 from 8 to 6', 'move 7 from 7 to 5', 'move 1 from 9 to 1', 'move 14 from 3 to 6', 'move 4 from 7 to 1', 'move 6 from 5 to 3', 'move 4 from 1 to 2', 'move 9 from 3 to 5', 'move 1 from 7 to 2', 'move 2 from 3 to 7', 'move 1 from 4 to 8', 'move 1 from 4 to 9', 'move 3 from 3 to 6', 'move 9 from 5 to 2', 'move 1 from 8 to 9', 'move 1 from 1 to 7', 'move 1 from 9 to 3', 'move 1 from 4 to 8', 'move 1 from 9 to 4', 'move 3 from 5 to 1', 'move 2 from 1 to 9', 'move 1 from 4 to 9', 'move 15 from 6 to 9', 'move 3 from 3 to 5', 'move 2 from 1 to 3', 'move 2 from 7 to 4', 'move 5 from 6 to 5', 'move 6 from 2 to 9', 'move 1 from 7 to 2', 'move 2 from 4 to 6', 'move 2 from 3 to 1', 'move 1 from 1 to 6', 'move 1 from 8 to 3', 'move 1 from 3 to 9', 'move 3 from 5 to 1', 'move 3 from 6 to 2', 'move 6 from 5 to 3', 'move 6 from 6 to 8', 'move 4 from 1 to 6', 'move 12 from 9 to 7', 'move 4 from 6 to 8', 'move 1 from 5 to 1', 'move 2 from 8 to 2', 'move 2 from 2 to 1', 'move 5 from 3 to 6', 'move 3 from 1 to 6', 'move 5 from 8 to 6', 'move 1 from 3 to 6', 'move 5 from 2 to 7', 'move 8 from 9 to 4', 'move 15 from 7 to 8', 'move 5 from 6 to 3', 'move 1 from 3 to 8', 'move 15 from 8 to 3', 'move 7 from 2 to 9', 'move 1 from 7 to 4', 'move 10 from 9 to 5', 'move 4 from 6 to 4', 'move 3 from 8 to 6', 'move 1 from 8 to 6', 'move 1 from 7 to 3', 'move 10 from 6 to 9', 'move 7 from 3 to 2', 'move 10 from 9 to 7', 'move 8 from 5 to 7', 'move 8 from 3 to 7', 'move 1 from 5 to 9', 'move 1 from 6 to 8', 'move 1 from 5 to 4', 'move 1 from 8 to 6', 'move 5 from 3 to 8', 'move 9 from 4 to 2', 'move 1 from 9 to 2', 'move 4 from 2 to 3', 'move 2 from 2 to 9', 'move 2 from 4 to 8', 'move 4 from 9 to 1', 'move 1 from 4 to 9', 'move 1 from 7 to 8', 'move 9 from 2 to 1', 'move 1 from 2 to 5', 'move 1 from 5 to 3', 'move 1 from 9 to 3', 'move 4 from 3 to 6', 'move 4 from 8 to 9', 'move 2 from 3 to 6', 'move 2 from 6 to 9', 'move 1 from 4 to 8', 'move 3 from 6 to 3', 'move 2 from 6 to 5', 'move 1 from 5 to 2', 'move 2 from 2 to 1', 'move 9 from 7 to 3', 'move 7 from 3 to 9', 'move 9 from 9 to 8', 'move 10 from 7 to 1', 'move 3 from 9 to 3', 'move 3 from 3 to 1', 'move 5 from 8 to 3', 'move 1 from 9 to 3', 'move 1 from 5 to 6', 'move 3 from 8 to 4', 'move 1 from 8 to 4', 'move 2 from 8 to 2', 'move 7 from 3 to 8', 'move 4 from 4 to 2', 'move 1 from 4 to 6', 'move 1 from 8 to 1', 'move 5 from 7 to 5', 'move 2 from 6 to 7', 'move 3 from 8 to 7', 'move 2 from 2 to 1', 'move 23 from 1 to 6', 'move 2 from 3 to 5', 'move 1 from 3 to 6', 'move 1 from 7 to 2', 'move 22 from 6 to 4', 'move 5 from 2 to 7', 'move 6 from 5 to 3', 'move 17 from 4 to 1', 'move 5 from 8 to 2', 'move 23 from 1 to 7', 'move 5 from 3 to 1', 'move 15 from 7 to 2', 'move 2 from 3 to 4', 'move 1 from 8 to 4', 'move 5 from 1 to 9', 'move 6 from 7 to 1', 'move 8 from 4 to 6', 'move 4 from 9 to 5', 'move 3 from 5 to 7', 'move 1 from 9 to 1', 'move 7 from 7 to 4', 'move 7 from 1 to 5', 'move 10 from 2 to 3', 'move 4 from 2 to 4', 'move 6 from 2 to 8', 'move 7 from 6 to 7', 'move 7 from 3 to 1', 'move 3 from 6 to 2', 'move 5 from 8 to 7', 'move 7 from 5 to 7', 'move 1 from 5 to 6', 'move 1 from 6 to 2', 'move 2 from 3 to 4', 'move 1 from 3 to 7', 'move 1 from 2 to 6', 'move 3 from 7 to 6', 'move 1 from 8 to 3', 'move 4 from 4 to 2', 'move 2 from 4 to 9', 'move 2 from 1 to 7', 'move 1 from 4 to 9', 'move 1 from 3 to 5', 'move 4 from 6 to 1', 'move 3 from 4 to 5', 'move 2 from 4 to 1', 'move 8 from 7 to 1', 'move 1 from 4 to 1', 'move 6 from 2 to 3', 'move 1 from 2 to 4', 'move 4 from 3 to 2', 'move 1 from 4 to 5', 'move 3 from 2 to 5', 'move 11 from 7 to 5', 'move 2 from 9 to 1', 'move 8 from 7 to 4', 'move 2 from 3 to 5', 'move 1 from 2 to 1', 'move 8 from 4 to 1', 'move 1 from 9 to 4', 'move 7 from 5 to 4', 'move 22 from 1 to 5', 'move 5 from 4 to 2', 'move 6 from 1 to 7', 'move 4 from 2 to 7', 'move 19 from 5 to 4', 'move 1 from 7 to 6', 'move 3 from 1 to 6', 'move 3 from 7 to 9', 'move 1 from 2 to 4', 'move 20 from 4 to 6', 'move 13 from 5 to 9', 'move 2 from 1 to 3', 'move 10 from 9 to 8', 'move 3 from 9 to 4', 'move 1 from 8 to 1', 'move 1 from 1 to 8', 'move 1 from 3 to 1', 'move 2 from 9 to 2']\n"
          ]
        }
      ],
      "source": [
        "import requests\n",
        "import re\n",
        "\n",
        "file = requests.get('https://raw.githubusercontent.com/ZJouba/Advent-of-Code-2022/main/Day5/Day5.txt')\n",
        "input = list(filter(None, file.text.split('\\n\\n')))\n",
        "\n",
        "# input = '''    [D]    \n",
        "# [N] [C]    \n",
        "# [Z] [M] [P]\n",
        "#  1   2   3 \n",
        "\n",
        "# move 1 from 2 to 1\n",
        "# move 3 from 1 to 3\n",
        "# move 2 from 2 to 1\n",
        "# move 1 from 1 to 2'''\n",
        "# input = list(filter(None, input.split('\\n\\n')))\n",
        "\n",
        "# print(input)\n",
        "\n",
        "letters = re.compile('\\w')\n",
        "stacks = input[0].split('\\n')[0:-1]\n",
        "stacks = list(filter(lambda t: any(letters.match(l) for l in list(t)), zip(*stacks)))\n",
        "stacks = [list(i) for i in stacks]\n",
        "# print(stacks)\n",
        "\n",
        "instructions = list(filter(None, input[1].split('\\n')))\n",
        "print(instructions)"
      ]
    },
    {
      "cell_type": "code",
      "source": [
        "from operator import itemgetter\n",
        "\n",
        "parsed = re.compile('move (?P<amount>\\d+) from (?P<source>\\d+) to (?P<destination>\\d+)')\n",
        "for instruction in instructions:\n",
        "  amount, source, destination = itemgetter('amount', 'source', 'destination')(parsed.match(instruction).groupdict())\n",
        "  amount = int(amount)\n",
        "  source = int(source)-1\n",
        "  destination = int(destination)-1\n",
        "  for item in range(1, amount+1):\n",
        "    sourceIndex = next((crate for crate in range(len(stacks[source])) if stacks[source][crate] != ' '), None)\n",
        "    destIndex = next((crate for crate in reversed(range(len(stacks[destination]))) if stacks[destination][crate] == ' '), None)\n",
        "    if destIndex is None:\n",
        "      stacks[destination].insert(0, stacks[source][sourceIndex])\n",
        "    else:\n",
        "      stacks[destination][destIndex] = stacks[source][sourceIndex]\n",
        "    stacks[source][sourceIndex] = ' '\n",
        "\n",
        "final = ''\n",
        "for stack in stacks:\n",
        "  final += next((crate for crate in stack if crate != ' '), None)\n",
        "\n",
        "print(final)"
      ],
      "metadata": {
        "id": "6PIqA9Z7uUfD",
        "outputId": "3030553c-77bf-47a9-e7b1-b32b0352bec2",
        "colab": {
          "base_uri": "https://localhost:8080/",
          "height": 235
        }
      },
      "execution_count": null,
      "outputs": [
        {
          "output_type": "error",
          "ename": "TypeError",
          "evalue": "ignored",
          "traceback": [
            "\u001b[0;31m---------------------------------------------------------------------------\u001b[0m",
            "\u001b[0;31mTypeError\u001b[0m                                 Traceback (most recent call last)",
            "\u001b[0;32m<ipython-input-94-7251447184c5>\u001b[0m in \u001b[0;36m<module>\u001b[0;34m\u001b[0m\n\u001b[1;32m     13\u001b[0m       \u001b[0mstacks\u001b[0m\u001b[0;34m[\u001b[0m\u001b[0mdestination\u001b[0m\u001b[0;34m]\u001b[0m\u001b[0;34m.\u001b[0m\u001b[0minsert\u001b[0m\u001b[0;34m(\u001b[0m\u001b[0;36m0\u001b[0m\u001b[0;34m,\u001b[0m \u001b[0mstacks\u001b[0m\u001b[0;34m[\u001b[0m\u001b[0msource\u001b[0m\u001b[0;34m]\u001b[0m\u001b[0;34m[\u001b[0m\u001b[0msourceIndex\u001b[0m\u001b[0;34m]\u001b[0m\u001b[0;34m)\u001b[0m\u001b[0;34m\u001b[0m\u001b[0;34m\u001b[0m\u001b[0m\n\u001b[1;32m     14\u001b[0m     \u001b[0;32melse\u001b[0m\u001b[0;34m:\u001b[0m\u001b[0;34m\u001b[0m\u001b[0;34m\u001b[0m\u001b[0m\n\u001b[0;32m---> 15\u001b[0;31m       \u001b[0mstacks\u001b[0m\u001b[0;34m[\u001b[0m\u001b[0mdestination\u001b[0m\u001b[0;34m]\u001b[0m\u001b[0;34m[\u001b[0m\u001b[0mdestIndex\u001b[0m\u001b[0;34m]\u001b[0m \u001b[0;34m=\u001b[0m \u001b[0mstacks\u001b[0m\u001b[0;34m[\u001b[0m\u001b[0msource\u001b[0m\u001b[0;34m]\u001b[0m\u001b[0;34m[\u001b[0m\u001b[0msourceIndex\u001b[0m\u001b[0;34m]\u001b[0m\u001b[0;34m\u001b[0m\u001b[0;34m\u001b[0m\u001b[0m\n\u001b[0m\u001b[1;32m     16\u001b[0m     \u001b[0mstacks\u001b[0m\u001b[0;34m[\u001b[0m\u001b[0msource\u001b[0m\u001b[0;34m]\u001b[0m\u001b[0;34m[\u001b[0m\u001b[0msourceIndex\u001b[0m\u001b[0;34m]\u001b[0m \u001b[0;34m=\u001b[0m \u001b[0;34m' '\u001b[0m\u001b[0;34m\u001b[0m\u001b[0;34m\u001b[0m\u001b[0m\n\u001b[1;32m     17\u001b[0m \u001b[0;34m\u001b[0m\u001b[0m\n",
            "\u001b[0;31mTypeError\u001b[0m: list indices must be integers or slices, not NoneType"
          ]
        }
      ]
    },
    {
      "cell_type": "code",
      "source": [
        "from operator import itemgetter\n",
        "\n",
        "parsed = re.compile('move (?P<amount>\\d+) from (?P<source>\\d+) to (?P<destination>\\d+)')\n",
        "for instruction in instructions:\n",
        "  amount, source, destination = itemgetter('amount', 'source', 'destination')(parsed.match(instruction).groupdict())\n",
        "  amount = int(amount)\n",
        "  source = int(source)-1\n",
        "  destination = int(destination)-1\n",
        "  sourceIndex = next((crate for crate in range(len(stacks[source])) if stacks[source][crate] != ' '), None)\n",
        "  destIndex = next((crate for crate in reversed(range(len(stacks[destination]))) if stacks[destination][crate] == ' '), None)\n",
        "  if destIndex is None:\n",
        "    stacks[destination][0:0] = stacks[source][sourceIndex:sourceIndex+amount]\n",
        "  else:\n",
        "    stacks[destination][destIndex:destIndex] = stacks[source][sourceIndex:sourceIndex+amount]\n",
        "  stacks[source][sourceIndex:sourceIndex+amount] = ' '\n",
        "\n",
        "  for i in range(len(stacks)):\n",
        "    s = stacks[i]\n",
        "    newS = []\n",
        "    for c in reversed(range(len(s))):\n",
        "      if s[c] != ' ':\n",
        "        newS.insert(0, s[c])\n",
        "    stacks[i] = newS\n",
        "\n",
        "final = ''\n",
        "for stack in stacks:\n",
        "  final += next((crate for crate in stack if crate != ' '), None)\n",
        "\n",
        "print(final)"
      ],
      "metadata": {
        "id": "6UBu9kxD4CSo",
        "outputId": "8f47366f-d0b3-4156-d716-628fdbd004d8",
        "colab": {
          "base_uri": "https://localhost:8080/"
        }
      },
      "execution_count": null,
      "outputs": [
        {
          "output_type": "stream",
          "name": "stdout",
          "text": [
            "LVZPSTTCZ\n"
          ]
        }
      ]
    }
  ]
}